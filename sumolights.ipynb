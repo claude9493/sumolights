{
  "cells": [
    {
      "cell_type": "markdown",
      "metadata": {
        "colab_type": "text",
        "id": "view-in-github"
      },
      "source": [
        "<a href=\"https://colab.research.google.com/github/claude9493/sumolights/blob/master/sumolights.ipynb\" target=\"_parent\"><img src=\"https://colab.research.google.com/assets/colab-badge.svg\" alt=\"Open In Colab\"/></a>"
      ]
    },
    {
      "cell_type": "code",
      "execution_count": 1,
      "metadata": {
        "colab": {
          "base_uri": "https://localhost:8080/"
        },
        "id": "prCVhkVTMaBb",
        "outputId": "a9daa142-5e9e-4576-e713-a27277669970"
      },
      "outputs": [
        {
          "name": "stdout",
          "output_type": "stream",
          "text": [
            "Cloning into 'sumolights'...\n",
            "remote: Enumerating objects: 122, done.\u001b[K\n",
            "remote: Counting objects: 100% (31/31), done.\u001b[K\n",
            "remote: Compressing objects: 100% (11/11), done.\u001b[K\n",
            "remote: Total 122 (delta 20), reused 19 (delta 19), pack-reused 91\u001b[K\n",
            "Receiving objects: 100% (122/122), 1.69 MiB | 4.63 MiB/s, done.\n",
            "Resolving deltas: 100% (41/41), done.\n",
            "mv: cannot move './sumolights/networks' to './networks': Directory not empty\n",
            "mv: cannot move './sumolights/samples' to './samples': Directory not empty\n",
            "mv: cannot move './sumolights/src' to './src': Directory not empty\n"
          ]
        }
      ],
      "source": [
        "!git clone -q https://github.com/claude9493/sumolights.git\n",
        "!mv ./sumolights/* ./\n",
        "!rm -d -r ./sumolights"
      ]
    },
    {
      "cell_type": "markdown",
      "metadata": {
        "id": "sNd1fUtPOrxA"
      },
      "source": [
        "Install `SUMO`, `traci` and other dependencies."
      ]
    },
    {
      "cell_type": "code",
      "execution_count": 2,
      "metadata": {
        "colab": {
          "base_uri": "https://localhost:8080/"
        },
        "id": "hmhCMiltOTFL",
        "outputId": "6126cce2-e8bd-4b21-fcad-f9f0bae88c72"
      },
      "outputs": [
        {
          "name": "stdout",
          "output_type": "stream",
          "text": [
            "\r0% [Working]\r            \rIgn:1 https://developer.download.nvidia.com/compute/cuda/repos/ubuntu1804/x86_64  InRelease\n",
            "\r0% [Connecting to archive.ubuntu.com] [Connecting to security.ubuntu.com] [Conn\r                                                                               \rIgn:2 https://developer.download.nvidia.com/compute/machine-learning/repos/ubuntu1804/x86_64  InRelease\n",
            "\r0% [Connecting to archive.ubuntu.com] [Connecting to security.ubuntu.com] [Conn\r                                                                               \rHit:3 https://developer.download.nvidia.com/compute/cuda/repos/ubuntu1804/x86_64  Release\n",
            "\r0% [Connecting to archive.ubuntu.com] [Connecting to security.ubuntu.com] [Conn\r0% [Release.gpg gpgv 696 B] [Connecting to archive.ubuntu.com (91.189.88.142)] \r                                                                               \rHit:4 https://developer.download.nvidia.com/compute/machine-learning/repos/ubuntu1804/x86_64  Release\n",
            "Hit:5 https://cloud.r-project.org/bin/linux/ubuntu bionic-cran40/ InRelease\n",
            "Hit:8 http://security.ubuntu.com/ubuntu bionic-security InRelease\n",
            "Hit:9 http://ppa.launchpad.net/c2d4u.team/c2d4u4.0+/ubuntu bionic InRelease\n",
            "Hit:10 http://archive.ubuntu.com/ubuntu bionic InRelease\n",
            "Hit:11 http://archive.ubuntu.com/ubuntu bionic-updates InRelease\n",
            "Hit:12 http://archive.ubuntu.com/ubuntu bionic-backports InRelease\n",
            "Hit:13 http://ppa.launchpad.net/cran/libgit2/ubuntu bionic InRelease\n",
            "Hit:14 http://ppa.launchpad.net/deadsnakes/ppa/ubuntu bionic InRelease\n",
            "Hit:15 http://ppa.launchpad.net/graphics-drivers/ppa/ubuntu bionic InRelease\n",
            "Hit:16 http://ppa.launchpad.net/sumo/stable/ubuntu bionic InRelease\n",
            "Reading package lists... Done\n",
            "Ign:1 https://developer.download.nvidia.com/compute/cuda/repos/ubuntu1804/x86_64  InRelease\n",
            "Ign:2 https://developer.download.nvidia.com/compute/machine-learning/repos/ubuntu1804/x86_64  InRelease\n",
            "Hit:3 https://developer.download.nvidia.com/compute/cuda/repos/ubuntu1804/x86_64  Release\n",
            "Hit:4 https://developer.download.nvidia.com/compute/machine-learning/repos/ubuntu1804/x86_64  Release\n",
            "Hit:5 https://cloud.r-project.org/bin/linux/ubuntu bionic-cran40/ InRelease\n",
            "Hit:6 http://security.ubuntu.com/ubuntu bionic-security InRelease\n",
            "Hit:9 http://ppa.launchpad.net/c2d4u.team/c2d4u4.0+/ubuntu bionic InRelease\n",
            "Hit:10 http://archive.ubuntu.com/ubuntu bionic InRelease\n",
            "Hit:11 http://archive.ubuntu.com/ubuntu bionic-updates InRelease\n",
            "Hit:12 http://ppa.launchpad.net/cran/libgit2/ubuntu bionic InRelease\n",
            "Hit:13 http://archive.ubuntu.com/ubuntu bionic-backports InRelease\n",
            "Hit:14 http://ppa.launchpad.net/deadsnakes/ppa/ubuntu bionic InRelease\n",
            "Hit:15 http://ppa.launchpad.net/graphics-drivers/ppa/ubuntu bionic InRelease\n",
            "Hit:16 http://ppa.launchpad.net/sumo/stable/ubuntu bionic InRelease\n",
            "Reading package lists... Done\n",
            "Reading package lists...\n",
            "Building dependency tree...\n",
            "Reading state information...\n",
            "sumo is already the newest version (1.11.0-1~bionic).\n",
            "sumo-doc is already the newest version (1.11.0-1~bionic).\n",
            "sumo-tools is already the newest version (1.11.0-1~bionic).\n",
            "0 upgraded, 0 newly installed, 0 to remove and 55 not upgraded.\n"
          ]
        }
      ],
      "source": [
        "!sudo add-apt-repository ppa:sumo/stable -y\n",
        "!sudo apt-get update\n",
        "!sudo apt-get -q install sumo sumo-tools sumo-doc\n",
        "!pip install -q traci\n",
        "!pip install -q -r requirements.txt"
      ]
    },
    {
      "cell_type": "code",
      "execution_count": 4,
      "metadata": {
        "colab": {
          "base_uri": "https://localhost:8080/"
        },
        "id": "X-n2pa-HQQlJ",
        "outputId": "18766237-1db7-4141-f4ee-e631653d3c88"
      },
      "outputs": [
        {
          "name": "stdout",
          "output_type": "stream",
          "text": [
            "env: SUMO_HOME=\"/usr/share/sumo\"\n"
          ]
        }
      ],
      "source": [
        "%env SUMO_HOME=\"/usr/share/sumo\"\n",
        "!export | grep SUMO_HOME"
      ]
    },
    {
      "cell_type": "code",
      "execution_count": 6,
      "metadata": {
        "colab": {
          "base_uri": "https://localhost:8080/"
        },
        "id": "gifbI5gDQYH3",
        "outputId": "9ce73e09-e48d-4f06-e88a-050dad9dea96"
      },
      "outputs": [
        {
          "name": "stdout",
          "output_type": "stream",
          "text": [
            "declare -x SUMO_HOME=\"\\\"/usr/share/sumo\\\"\"\n"
          ]
        }
      ],
      "source": [
        "# Train DQN\n",
        "!python run.py -sim double -tsc dqn -lr 0.00005 -lre 0.0000001 -nreplay 15000 -nsteps 2 -target_freq 128 -updates 15000 -batch 32 -save -nogui -n_hidden 3 -mode train -gmin 5"
      ]
    }
  ],
  "metadata": {
    "colab": {
      "authorship_tag": "ABX9TyNDhTelqOkI18VZefx8+V7Q",
      "include_colab_link": true,
      "name": "sumolights.ipynb",
      "provenance": []
    },
    "kernelspec": {
      "display_name": "Python 3",
      "name": "python3"
    },
    "language_info": {
      "name": "python"
    }
  },
  "nbformat": 4,
  "nbformat_minor": 0
}
